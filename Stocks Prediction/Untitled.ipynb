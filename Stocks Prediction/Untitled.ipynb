{
 "cells": [
  {
   "cell_type": "markdown",
   "metadata": {},
   "source": [
    "###### Machine Learning Model by Sai Tej Sunkara\n",
    "\n",
    "# Predicting the stocks prices\n",
    "\n",
    "### If we know, when a stock prices increases in a company then we could invest our money in that stocks and then sell them when it increases. But at first, we have to know for which company the stock prices increases in a large extent in future. So we would build a machine learning model which could predict the increase in stock prices of a company in future. \n",
    "\n",
    "##### To get started we need the following:\n",
    "\n",
    "##### 1. Sentiment Analysis\n",
    "The process of computationally identifying and categorizing opinions expressed in a piece of text, especially in order to determine whether the writer's attitude towards a particular topic, product, etc. is positive, negative, or neutral.\n",
    "##### 2. Past Stock Prices\n",
    "To analyse the stock prices in future. When the stocks get down or when the stocks get up!\n",
    "##### 3. Sales Growth\n",
    "At What time will the sales of a company grow. Will they grow or fall? All these can be found here. \n",
    "##### 4. Dividends.\n",
    "A sum of money paid regularly (typically annually) by a company to its shareholders out of its profits (or reserves).A dividend is a payment made by a corporation to its shareholders, usually as a distribution of profits.\n",
    "         \n",
    "#### Steps involved in every machine learning project is :\n",
    "\n",
    "##### 1. Install dependancies : \n",
    "Here in Jupyter notebook we get all dependancies installed for machine learning projects. we need dependancies like       SciKit-Learn, Numpy, Pandas and Matplotlib.\n",
    "##### 2. Collect data :\n",
    "Data can be collected from google finance.\n",
    "##### 3. Writing Scripts :\n",
    "Since python is a scripting language we could run the code line by line through interpreter.\n",
    "##### 4. Analyze Graph :\n",
    "We would be building a graph , so that user could easily understand the trends in a stocks and decide to invest in trends or to leave it."
   ]
  },
  {
   "attachments": {},
   "cell_type": "markdown",
   "metadata": {},
   "source": [
    "#  Support Vector Machine\n",
    "\n",
    "Here in every machine learning model we need a machine learning algorithm, where depends on supervised learning or unsupervised learning or Reinforcement learning.\n",
    "\n",
    "Supervised Learning : The machine learning model follows a supervised learning if the model is used for regression or classification. A regression models are used if data contains time dependant variables. A clssification model is used it the target of data contains the groups or labels. This machine learning model contains function f(x) and also an output y.\n",
    "\n",
    "Unsupervised Learning : The machine learning model follows unsupervised learning if model if the output of machine learning model is not defined or unknown. The model of unsupervised learning contains only function f(x) and doesnt contain any output y.\n",
    "\n",
    "Reinforcement Learning : If the machine learning model gets data continuously from outside world and produce output continuously.\n",
    "\n",
    "##### Support Vector Machine:\n",
    "A support vector machine also known as SVM is a machine learning model where the classification is already done in a machine and then plotted graph that could clearly shows the classification and decision line on a graph. When a new data also known as test data comes into model, the model plots the test data in a graph and then classfies it based on a decision line.\n",
    "        \n",
    "        \n",
    "A support vector machine can be used for both classification and regression type of problems.\n",
    "        "
   ]
  },
  {
   "cell_type": "markdown",
   "metadata": {},
   "source": [
    "<img src = \"SupportMAchine.png\",width=700,height=900 >"
   ]
  },
  {
   "cell_type": "markdown",
   "metadata": {},
   "source": [
    "# Importing Data From PC\n",
    "\n",
    "source : in.finance.yahoo.com"
   ]
  },
  {
   "cell_type": "code",
   "execution_count": 20,
   "metadata": {},
   "outputs": [],
   "source": [
    "import pandas as pd\n",
    "data = pd.read_csv('AAPL.csv')"
   ]
  },
  {
   "cell_type": "code",
   "execution_count": 21,
   "metadata": {},
   "outputs": [
    {
     "name": "stdout",
     "output_type": "stream",
     "text": [
      "          Date        Open        High         Low       Close   Adj Close  \\\n",
      "0   2018-05-02  175.229996  177.750000  173.800003  176.570007  175.891754   \n",
      "1   2018-05-03  175.880005  177.500000  174.440002  176.889999  176.210510   \n",
      "2   2018-05-04  178.250000  184.250000  178.169998  183.830002  183.123856   \n",
      "3   2018-05-07  185.179993  187.669998  184.750000  185.160004  184.448746   \n",
      "4   2018-05-08  184.990005  186.220001  183.669998  186.050003  185.335327   \n",
      "5   2018-05-09  186.550003  187.399994  185.220001  187.360001  186.640305   \n",
      "6   2018-05-10  187.740005  190.369995  187.649994  190.039993  189.309998   \n",
      "7   2018-05-11  189.490005  190.059998  187.449997  188.589996  188.589996   \n",
      "8   2018-05-14  189.009995  189.529999  187.860001  188.149994  188.149994   \n",
      "9   2018-05-15  186.779999  187.070007  185.100006  186.440002  186.440002   \n",
      "10  2018-05-16  186.070007  188.460007  186.000000  188.179993  188.179993   \n",
      "11  2018-05-17  188.000000  188.910004  186.360001  186.990005  186.990005   \n",
      "12  2018-05-18  187.190002  187.809998  186.130005  186.309998  186.309998   \n",
      "13  2018-05-21  188.000000  189.270004  186.910004  187.630005  187.630005   \n",
      "14  2018-05-22  188.380005  188.880005  186.779999  187.160004  187.160004   \n",
      "15  2018-05-23  186.350006  188.500000  185.759995  188.360001  188.360001   \n",
      "16  2018-05-24  188.770004  188.839996  186.210007  188.149994  188.149994   \n",
      "17  2018-05-25  188.229996  189.649994  187.649994  188.580002  188.580002   \n",
      "18  2018-05-29  187.600006  188.750000  186.869995  187.899994  187.899994   \n",
      "19  2018-05-30  187.720001  188.000000  186.779999  187.500000  187.500000   \n",
      "20  2018-05-31  187.220001  188.229996  186.139999  186.869995  186.869995   \n",
      "21  2018-06-01  187.990005  190.259995  187.750000  190.240005  190.240005   \n",
      "\n",
      "      Volume  \n",
      "0   66539400  \n",
      "1   34068200  \n",
      "2   56201300  \n",
      "3   42451400  \n",
      "4   28402800  \n",
      "5   23211200  \n",
      "6   27989300  \n",
      "7   26212200  \n",
      "8   20778800  \n",
      "9   23695200  \n",
      "10  19183100  \n",
      "11  17294000  \n",
      "12  18297700  \n",
      "13  18400800  \n",
      "14  15240700  \n",
      "15  19467900  \n",
      "16  23234000  \n",
      "17  17461000  \n",
      "18  22514100  \n",
      "19  18446600  \n",
      "20  27482800  \n",
      "21  23250400  \n"
     ]
    }
   ],
   "source": [
    "print(data)"
   ]
  },
  {
   "cell_type": "markdown",
   "metadata": {},
   "source": [
    "# Checking For NULL values"
   ]
  },
  {
   "cell_type": "code",
   "execution_count": 22,
   "metadata": {},
   "outputs": [
    {
     "data": {
      "text/plain": [
       "Date         False\n",
       "Open         False\n",
       "High         False\n",
       "Low          False\n",
       "Close        False\n",
       "Adj Close    False\n",
       "Volume       False\n",
       "dtype: bool"
      ]
     },
     "execution_count": 22,
     "metadata": {},
     "output_type": "execute_result"
    }
   ],
   "source": [
    "data.isnull().any()"
   ]
  },
  {
   "cell_type": "markdown",
   "metadata": {},
   "source": [
    "# Checking For Type Of Data in Date Feature"
   ]
  },
  {
   "cell_type": "code",
   "execution_count": 23,
   "metadata": {},
   "outputs": [
    {
     "data": {
      "text/plain": [
       "Index(['Date', 'Open', 'High', 'Low', 'Close', 'Adj Close', 'Volume'], dtype='object')"
      ]
     },
     "execution_count": 23,
     "metadata": {},
     "output_type": "execute_result"
    }
   ],
   "source": [
    "data.columns"
   ]
  },
  {
   "cell_type": "code",
   "execution_count": 24,
   "metadata": {},
   "outputs": [
    {
     "data": {
      "text/plain": [
       "str"
      ]
     },
     "execution_count": 24,
     "metadata": {},
     "output_type": "execute_result"
    }
   ],
   "source": [
    "type(data['Date'][0])"
   ]
  },
  {
   "cell_type": "markdown",
   "metadata": {},
   "source": [
    "# Changing Date Feature From Strings To Integer"
   ]
  },
  {
   "cell_type": "code",
   "execution_count": 26,
   "metadata": {},
   "outputs": [
    {
     "name": "stderr",
     "output_type": "stream",
     "text": [
      "D:\\Installers\\Anaconda3\\lib\\site-packages\\ipykernel_launcher.py:7: SettingWithCopyWarning: \n",
      "A value is trying to be set on a copy of a slice from a DataFrame\n",
      "\n",
      "See the caveats in the documentation: http://pandas.pydata.org/pandas-docs/stable/indexing.html#indexing-view-versus-copy\n",
      "  import sys\n"
     ]
    }
   ],
   "source": [
    "j = 0\n",
    "for i in data['Date']:\n",
    "    string = \"\"\n",
    "    for k in i:\n",
    "        if k!='-':\n",
    "            string = string+k\n",
    "    data['Date'][j] = int(string)\n",
    "    j+=1    "
   ]
  },
  {
   "cell_type": "code",
   "execution_count": 27,
   "metadata": {},
   "outputs": [
    {
     "name": "stdout",
     "output_type": "stream",
     "text": [
      "0     20180502\n",
      "1     20180503\n",
      "2     20180504\n",
      "3     20180507\n",
      "4     20180508\n",
      "5     20180509\n",
      "6     20180510\n",
      "7     20180511\n",
      "8     20180514\n",
      "9     20180515\n",
      "10    20180516\n",
      "11    20180517\n",
      "12    20180518\n",
      "13    20180521\n",
      "14    20180522\n",
      "15    20180523\n",
      "16    20180524\n",
      "17    20180525\n",
      "18    20180529\n",
      "19    20180530\n",
      "20    20180531\n",
      "21    20180601\n",
      "Name: Date, dtype: object\n"
     ]
    }
   ],
   "source": [
    "print(data['Date'])"
   ]
  },
  {
   "cell_type": "markdown",
   "metadata": {},
   "source": [
    "# Dividing Depending Variables and Independant Variables"
   ]
  },
  {
   "cell_type": "code",
   "execution_count": 57,
   "metadata": {},
   "outputs": [],
   "source": [
    "x = data.iloc[:,:1]\n",
    "y = data.iloc[:,5:6]"
   ]
  },
  {
   "cell_type": "code",
   "execution_count": 58,
   "metadata": {},
   "outputs": [
    {
     "name": "stdout",
     "output_type": "stream",
     "text": [
      "        Date\n",
      "0   20180502\n",
      "1   20180503\n",
      "2   20180504\n",
      "3   20180507\n",
      "4   20180508\n",
      "5   20180509\n",
      "6   20180510\n",
      "7   20180511\n",
      "8   20180514\n",
      "9   20180515\n",
      "10  20180516\n",
      "11  20180517\n",
      "12  20180518\n",
      "13  20180521\n",
      "14  20180522\n",
      "15  20180523\n",
      "16  20180524\n",
      "17  20180525\n",
      "18  20180529\n",
      "19  20180530\n",
      "20  20180531\n",
      "21  20180601\n"
     ]
    }
   ],
   "source": [
    "print(x)"
   ]
  },
  {
   "cell_type": "code",
   "execution_count": 59,
   "metadata": {},
   "outputs": [
    {
     "name": "stdout",
     "output_type": "stream",
     "text": [
      "     Adj Close\n",
      "0   175.891754\n",
      "1   176.210510\n",
      "2   183.123856\n",
      "3   184.448746\n",
      "4   185.335327\n",
      "5   186.640305\n",
      "6   189.309998\n",
      "7   188.589996\n",
      "8   188.149994\n",
      "9   186.440002\n",
      "10  188.179993\n",
      "11  186.990005\n",
      "12  186.309998\n",
      "13  187.630005\n",
      "14  187.160004\n",
      "15  188.360001\n",
      "16  188.149994\n",
      "17  188.580002\n",
      "18  187.899994\n",
      "19  187.500000\n",
      "20  186.869995\n",
      "21  190.240005\n"
     ]
    }
   ],
   "source": [
    "print(y)"
   ]
  },
  {
   "cell_type": "code",
   "execution_count": 68,
   "metadata": {},
   "outputs": [
    {
     "name": "stdout",
     "output_type": "stream",
     "text": [
      "    Adj Close\n",
      "0       176.0\n",
      "1       176.0\n",
      "2       183.0\n",
      "3       184.0\n",
      "4       185.0\n",
      "5       187.0\n",
      "6       189.0\n",
      "7       189.0\n",
      "8       188.0\n",
      "9       186.0\n",
      "10      188.0\n",
      "11      187.0\n",
      "12      186.0\n",
      "13      188.0\n",
      "14      187.0\n",
      "15      188.0\n",
      "16      188.0\n",
      "17      189.0\n",
      "18      188.0\n",
      "19      188.0\n",
      "20      187.0\n",
      "21      190.0\n"
     ]
    }
   ],
   "source": [
    "y = round(y)\n",
    "print(y)"
   ]
  },
  {
   "cell_type": "markdown",
   "metadata": {},
   "source": [
    "# Dividing Training and Testing Data"
   ]
  },
  {
   "cell_type": "code",
   "execution_count": 69,
   "metadata": {},
   "outputs": [],
   "source": [
    "from sklearn import model_selection"
   ]
  },
  {
   "cell_type": "code",
   "execution_count": 70,
   "metadata": {},
   "outputs": [],
   "source": [
    "train_data, test_data, train_target, test_target = model_selection.train_test_split(x,y, test_size = 0.15)"
   ]
  },
  {
   "cell_type": "markdown",
   "metadata": {},
   "source": [
    "# Training Our Model"
   ]
  },
  {
   "cell_type": "code",
   "execution_count": 71,
   "metadata": {},
   "outputs": [],
   "source": [
    "from sklearn import svm"
   ]
  },
  {
   "cell_type": "code",
   "execution_count": 72,
   "metadata": {},
   "outputs": [],
   "source": [
    "model_1 = svm.SVC(kernel = 'linear')"
   ]
  },
  {
   "cell_type": "code",
   "execution_count": 73,
   "metadata": {},
   "outputs": [],
   "source": [
    "model_2 = svm.SVC(kernel = 'ply')"
   ]
  },
  {
   "cell_type": "code",
   "execution_count": 74,
   "metadata": {},
   "outputs": [],
   "source": [
    "model_3 = svm.SVC(kernel = 'rbf')"
   ]
  },
  {
   "cell_type": "code",
   "execution_count": null,
   "metadata": {},
   "outputs": [
    {
     "name": "stderr",
     "output_type": "stream",
     "text": [
      "D:\\Installers\\Anaconda3\\lib\\site-packages\\sklearn\\utils\\validation.py:578: DataConversionWarning: A column-vector y was passed when a 1d array was expected. Please change the shape of y to (n_samples, ), for example using ravel().\n",
      "  y = column_or_1d(y, warn=True)\n"
     ]
    }
   ],
   "source": [
    "model_1.fit(train_data,train_target)"
   ]
  },
  {
   "cell_type": "code",
   "execution_count": null,
   "metadata": {},
   "outputs": [],
   "source": [
    "model_2.fit(train_data,train_target)"
   ]
  },
  {
   "cell_type": "code",
   "execution_count": null,
   "metadata": {},
   "outputs": [],
   "source": [
    "model_3.fit(train_data,train_target)"
   ]
  },
  {
   "cell_type": "code",
   "execution_count": null,
   "metadata": {},
   "outputs": [],
   "source": []
  }
 ],
 "metadata": {
  "kernelspec": {
   "display_name": "Python 3",
   "language": "python",
   "name": "python3"
  },
  "language_info": {
   "codemirror_mode": {
    "name": "ipython",
    "version": 3
   },
   "file_extension": ".py",
   "mimetype": "text/x-python",
   "name": "python",
   "nbconvert_exporter": "python",
   "pygments_lexer": "ipython3",
   "version": "3.6.4"
  }
 },
 "nbformat": 4,
 "nbformat_minor": 2
}
